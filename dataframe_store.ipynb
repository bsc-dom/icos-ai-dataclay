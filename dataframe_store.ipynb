{
 "cells": [
  {
   "cell_type": "code",
   "execution_count": null,
   "id": "32093701",
   "metadata": {},
   "outputs": [],
   "source": [
    "from model.dataframes import PersistentDF"
   ]
  },
  {
   "cell_type": "code",
   "execution_count": null,
   "id": "1b34140b",
   "metadata": {},
   "outputs": [],
   "source": [
    "from dataclay import Client\n",
    "\n",
    "client = Client(host=\"127.0.0.1\", username=\"testuser\", password=\"s3cret\", dataset=\"testdata\")\n",
    "client.start()"
   ]
  },
  {
   "cell_type": "code",
   "execution_count": null,
   "id": "cb5f9408",
   "metadata": {},
   "outputs": [],
   "source": [
    "import seaborn as sns\n",
    "from pandas import DataFrame\n",
    "iris = sns.load_dataset('iris')\n"
   ]
  },
  {
   "cell_type": "code",
   "execution_count": null,
   "id": "d351ac16",
   "metadata": {},
   "outputs": [],
   "source": [
    "type(iris)"
   ]
  },
  {
   "cell_type": "code",
   "execution_count": null,
   "id": "7bc901e7",
   "metadata": {},
   "outputs": [],
   "source": [
    "pdf = PersistentDF(iris)"
   ]
  },
  {
   "cell_type": "code",
   "execution_count": null,
   "id": "b47f0fd2",
   "metadata": {},
   "outputs": [],
   "source": [
    "pdf.make_persistent(alias=\"iris_dataset\")"
   ]
  },
  {
   "cell_type": "code",
   "execution_count": null,
   "id": "bb683e6f",
   "metadata": {},
   "outputs": [],
   "source": []
  }
 ],
 "metadata": {
  "kernelspec": {
   "display_name": "Python 3 (ipykernel)",
   "language": "python",
   "name": "python3"
  },
  "language_info": {
   "codemirror_mode": {
    "name": "ipython",
    "version": 3
   },
   "file_extension": ".py",
   "mimetype": "text/x-python",
   "name": "python",
   "nbconvert_exporter": "python",
   "pygments_lexer": "ipython3",
   "version": "3.10.12"
  }
 },
 "nbformat": 4,
 "nbformat_minor": 5
}
