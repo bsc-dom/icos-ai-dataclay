{
 "cells": [
  {
   "cell_type": "code",
   "execution_count": 1,
   "id": "5949f9b9",
   "metadata": {},
   "outputs": [],
   "source": [
    "from model.visiontransformer import VisionTransformer"
   ]
  },
  {
   "cell_type": "code",
   "execution_count": 2,
   "id": "886a20fd",
   "metadata": {},
   "outputs": [],
   "source": [
    "from dataclay import Client\n",
    "\n",
    "client = Client(host=\"127.0.0.1\", username=\"testuser\", password=\"s3cret\", dataset=\"testdata\")\n",
    "client.start()"
   ]
  },
  {
   "cell_type": "markdown",
   "id": "164bbf40",
   "metadata": {},
   "source": [
    "Let's `dry_run` without connecting to dataClay, to check that everything is working:"
   ]
  },
  {
   "cell_type": "code",
   "execution_count": 3,
   "id": "4cfa20cc",
   "metadata": {},
   "outputs": [],
   "source": [
    "local_vt = VisionTransformer(dry_run=True)"
   ]
  },
  {
   "cell_type": "code",
   "execution_count": 4,
   "id": "a301caab",
   "metadata": {},
   "outputs": [
    {
     "name": "stdout",
     "output_type": "stream",
     "text": [
      "Files already downloaded and verified\n",
      "Files already downloaded and verified\n"
     ]
    },
    {
     "name": "stderr",
     "output_type": "stream",
     "text": [
      "EPOCH[TRAIN]1/10:   0%|                                                           | 0/12500 [00:01<?, ?it/s, Loss=2.794374]\n",
      "EPOCH[VALID]1/10:   0%|                                                            | 0/2500 [00:00<?, ?it/s, Loss=7.938632]\n"
     ]
    },
    {
     "name": "stdout",
     "output_type": "stream",
     "text": [
      "Saved Best Weights\n"
     ]
    },
    {
     "name": "stderr",
     "output_type": "stream",
     "text": [
      "EPOCH[TRAIN]2/10:   0%|                                                           | 0/12500 [00:01<?, ?it/s, Loss=7.871734]\n",
      "EPOCH[VALID]2/10:   0%|                                                           | 0/2500 [00:00<?, ?it/s, Loss=52.935158]\n",
      "EPOCH[TRAIN]3/10:   0%|                                                          | 0/12500 [00:01<?, ?it/s, Loss=49.291100]\n",
      "EPOCH[VALID]3/10:   0%|                                                           | 0/2500 [00:00<?, ?it/s, Loss=31.434029]\n",
      "EPOCH[TRAIN]4/10:   0%|                                                          | 0/12500 [00:01<?, ?it/s, Loss=36.389652]\n",
      "EPOCH[VALID]4/10:   0%|                                                           | 0/2500 [00:00<?, ?it/s, Loss=23.583447]\n",
      "EPOCH[TRAIN]5/10:   0%|                                                          | 0/12500 [00:01<?, ?it/s, Loss=45.432198]\n",
      "EPOCH[VALID]5/10:   0%|                                                           | 0/2500 [00:00<?, ?it/s, Loss=26.892162]\n",
      "EPOCH[TRAIN]6/10:   0%|                                                          | 0/12500 [00:01<?, ?it/s, Loss=23.943737]\n",
      "EPOCH[VALID]6/10:   0%|                                                           | 0/2500 [00:00<?, ?it/s, Loss=39.636169]\n",
      "EPOCH[TRAIN]7/10:   0%|                                                          | 0/12500 [00:01<?, ?it/s, Loss=34.253189]\n",
      "EPOCH[VALID]7/10:   0%|                                                           | 0/2500 [00:00<?, ?it/s, Loss=78.370781]\n",
      "EPOCH[TRAIN]8/10:   0%|                                                          | 0/12500 [00:01<?, ?it/s, Loss=67.138985]\n",
      "EPOCH[VALID]8/10:   0%|                                                           | 0/2500 [00:00<?, ?it/s, Loss=59.537369]\n",
      "EPOCH[TRAIN]9/10:   0%|                                                          | 0/12500 [00:01<?, ?it/s, Loss=33.418774]\n",
      "EPOCH[VALID]9/10:   0%|                                                           | 0/2500 [00:00<?, ?it/s, Loss=37.051556]\n",
      "EPOCH[TRAIN]10/10:   0%|                                                         | 0/12500 [00:01<?, ?it/s, Loss=34.253338]\n",
      "EPOCH[VALID]10/10:   0%|                                                          | 0/2500 [00:00<?, ?it/s, Loss=47.553837]"
     ]
    },
    {
     "name": "stdout",
     "output_type": "stream",
     "text": [
      "Training Loss : 0.0002235499382019043\n",
      "Valid Loss : 0.0031754528045654295\n",
      "Training Loss : 0.0002235499382019043\n",
      "Valid Loss : 0.0031754528045654295\n"
     ]
    },
    {
     "name": "stderr",
     "output_type": "stream",
     "text": [
      "\n"
     ]
    }
   ],
   "source": [
    "best_train_loss, best_valid_loss = local_vt.train()\n",
    "print(f\"Training Loss : {best_train_loss}\")\n",
    "print(f\"Valid Loss : {best_valid_loss}\")"
   ]
  },
  {
   "cell_type": "markdown",
   "id": "2d8c75b4",
   "metadata": {},
   "source": [
    "That has been run locally. Because no `make_persistent` had been executed. Now let's try to do a dry_run in dataClay:\n"
   ]
  },
  {
   "cell_type": "code",
   "execution_count": 5,
   "id": "42b89d37",
   "metadata": {},
   "outputs": [],
   "source": [
    "persistent_vt = VisionTransformer(dry_run=True)\n",
    "persistent_vt.make_persistent()"
   ]
  },
  {
   "cell_type": "code",
   "execution_count": 6,
   "id": "e4407dbd",
   "metadata": {},
   "outputs": [
    {
     "name": "stdout",
     "output_type": "stream",
     "text": [
      "Training Loss : 0.00025663469314575195\n",
      "Valid Loss : 0.0027344240188598634\n"
     ]
    }
   ],
   "source": [
    "best_train_loss, best_valid_loss = persistent_vt.train()\n",
    "print(f\"Training Loss : {best_train_loss}\")\n",
    "print(f\"Valid Loss : {best_valid_loss}\")"
   ]
  },
  {
   "cell_type": "markdown",
   "id": "096702c2",
   "metadata": {},
   "source": [
    "I tried to do a full run without cuda and had no patience to wait for it. But backend logs show that it is working and progressing:"
   ]
  },
  {
   "cell_type": "code",
   "execution_count": null,
   "id": "a90b0488",
   "metadata": {},
   "outputs": [],
   "source": [
    "persistent_vt = VisionTransformer(dry_run=False)\n",
    "persistent_vt.make_persistent()\n",
    "best_train_loss, best_valid_loss = persistent_vt.train()\n",
    "print(f\"Training Loss : {best_train_loss}\")\n",
    "print(f\"Valid Loss : {best_valid_loss}\")"
   ]
  },
  {
   "cell_type": "code",
   "execution_count": null,
   "id": "5873eb4b",
   "metadata": {},
   "outputs": [],
   "source": []
  }
 ],
 "metadata": {
  "kernelspec": {
   "display_name": "Python 3 (ipykernel)",
   "language": "python",
   "name": "python3"
  },
  "language_info": {
   "codemirror_mode": {
    "name": "ipython",
    "version": 3
   },
   "file_extension": ".py",
   "mimetype": "text/x-python",
   "name": "python",
   "nbconvert_exporter": "python",
   "pygments_lexer": "ipython3",
   "version": "3.10.6"
  }
 },
 "nbformat": 4,
 "nbformat_minor": 5
}
