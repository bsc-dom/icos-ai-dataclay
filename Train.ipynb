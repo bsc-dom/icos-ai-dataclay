{
 "cells": [
  {
   "cell_type": "code",
   "execution_count": null,
   "id": "5949f9b9",
   "metadata": {},
   "outputs": [],
   "source": [
    "from model.visiontransformer import VisionTransformer"
   ]
  },
  {
   "cell_type": "code",
   "execution_count": null,
   "id": "886a20fd",
   "metadata": {},
   "outputs": [],
   "source": [
    "from dataclay import Client\n",
    "\n",
    "client = Client(host=\"dataclay-mds\", username=\"testuser\", password=\"s3cret\", dataset=\"testdata\")\n",
    "client.start()"
   ]
  },
  {
   "cell_type": "markdown",
   "id": "164bbf40",
   "metadata": {},
   "source": [
    "Let's `dry_run` without connecting to dataClay, to check that everything is working:"
   ]
  },
  {
   "cell_type": "code",
   "execution_count": null,
   "id": "4cfa20cc",
   "metadata": {},
   "outputs": [],
   "source": [
    "local_vt = VisionTransformer(dry_run=True)"
   ]
  },
  {
   "cell_type": "code",
   "execution_count": null,
   "id": "a301caab",
   "metadata": {},
   "outputs": [],
   "source": [
    "best_train_loss, best_valid_loss = local_vt.train()\n",
    "print(f\"Training Loss : {best_train_loss}\")\n",
    "print(f\"Valid Loss : {best_valid_loss}\")"
   ]
  },
  {
   "cell_type": "markdown",
   "id": "2d8c75b4",
   "metadata": {},
   "source": [
    "That has been run locally. Because no `make_persistent` had been executed. Now let's try to do a dry_run in dataClay:\n"
   ]
  },
  {
   "cell_type": "code",
   "execution_count": null,
   "id": "42b89d37",
   "metadata": {},
   "outputs": [],
   "source": [
    "persistent_vt = VisionTransformer(dry_run=True)\n",
    "persistent_vt.make_persistent()"
   ]
  },
  {
   "cell_type": "code",
   "execution_count": null,
   "id": "e4407dbd",
   "metadata": {},
   "outputs": [],
   "source": [
    "best_train_loss, best_valid_loss = persistent_vt.train()\n",
    "print(f\"Training Loss : {best_train_loss}\")\n",
    "print(f\"Valid Loss : {best_valid_loss}\")"
   ]
  },
  {
   "cell_type": "markdown",
   "id": "096702c2",
   "metadata": {},
   "source": [
    "I tried to do a full run without cuda and had no patience to wait for it. But backend logs show that it is working and progressing:"
   ]
  },
  {
   "cell_type": "code",
   "execution_count": null,
   "id": "a90b0488",
   "metadata": {},
   "outputs": [],
   "source": [
    "persistent_vt = VisionTransformer(dry_run=False)\n",
    "persistent_vt.make_persistent()\n",
    "best_train_loss, best_valid_loss = persistent_vt.train()\n",
    "print(f\"Training Loss : {best_train_loss}\")\n",
    "print(f\"Valid Loss : {best_valid_loss}\")"
   ]
  },
  {
   "cell_type": "code",
   "execution_count": null,
   "id": "5873eb4b",
   "metadata": {},
   "outputs": [],
   "source": []
  }
 ],
 "metadata": {
  "kernelspec": {
   "display_name": "Python 3 (ipykernel)",
   "language": "python",
   "name": "python3"
  },
  "language_info": {
   "codemirror_mode": {
    "name": "ipython",
    "version": 3
   },
   "file_extension": ".py",
   "mimetype": "text/x-python",
   "name": "python",
   "nbconvert_exporter": "python",
   "pygments_lexer": "ipython3",
   "version": "3.11.4"
  }
 },
 "nbformat": 4,
 "nbformat_minor": 5
}
